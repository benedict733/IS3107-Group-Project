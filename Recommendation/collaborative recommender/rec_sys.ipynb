{
 "cells": [
  {
   "cell_type": "code",
   "execution_count": 44,
   "metadata": {},
   "outputs": [],
   "source": [
    "import pandas as pd\n",
    "pd.set_option('display.max_colwidth', None)\n",
    "from sklearn import preprocessing as pp\n",
    "from sklearn.model_selection import train_test_split\n",
    "import scipy.sparse as sp\n",
    "import numpy as np\n",
    "import random\n",
    "import torch.nn as nn\n",
    "from torch.utils.data import Dataset, DataLoader\n",
    "import time\n",
    "import matplotlib.pyplot as plt\n",
    "from tqdm.notebook import tqdm\n",
    "import pickle"
   ]
  },
  {
   "cell_type": "code",
   "execution_count": 8,
   "metadata": {},
   "outputs": [],
   "source": [
    "# set the seed for reproducibility\n",
    "seed = 224\n",
    "torch.manual_seed(seed)\n",
    "np.random.seed(seed)\n",
    "random.seed(seed)"
   ]
  },
  {
   "cell_type": "code",
   "execution_count": 9,
   "metadata": {},
   "outputs": [],
   "source": [
    "# set the seed for reproducibility\n",
    "seed = 224\n",
    "torch.manual_seed(seed)\n",
    "np.random.seed(seed)\n",
    "random.seed(seed)"
   ]
  },
  {
   "cell_type": "code",
   "execution_count": 10,
   "metadata": {},
   "outputs": [],
   "source": [
    "import mysql.connector\n",
    "\n",
    "db = mysql.connector.connect(\n",
    " host='localhost',\n",
    " user='root',\n",
    " passwd='iloveSCnb2018!',\n",
    " database='batchdata'\n",
    ")\n",
    "\n",
    "str_sql = '''\n",
    "SELECT * from steam_transformed;\n",
    "'''\n",
    "df = pd.read_sql(sql=str_sql, con=db)\n",
    "df.head(5)"
   ]
  },
  {
   "cell_type": "code",
   "execution_count": 12,
   "metadata": {},
   "outputs": [
    {
     "data": {
      "text/plain": [
       "Index(['Unnamed: 0.1', 'Unnamed: 0', 'recommendationid', 'author', 'review',\n",
       "       'timestamp_created', 'timestamp_updated', 'voted_up', 'votes_up',\n",
       "       'weighted_vote_score', 'app_id', 'title', 'date_release', 'rating',\n",
       "       'positive_ratio', 'user_reviews', 'price_final', 'price_original', 'os',\n",
       "       'time_between_comment_and_game', 'days_between_comment_and_game',\n",
       "       'rating_numerical', 'rating_simplified'],\n",
       "      dtype='object')"
      ]
     },
     "execution_count": 12,
     "metadata": {},
     "output_type": "execute_result"
    }
   ],
   "source": [
    "data.columns"
   ]
  },
  {
   "cell_type": "code",
   "execution_count": 13,
   "metadata": {},
   "outputs": [
    {
     "data": {
      "text/plain": [
       "rating_numerical\n",
       " 0    109844\n",
       " 2    109196\n",
       " 3     94975\n",
       " 1     74865\n",
       "-1     16811\n",
       " 4      7666\n",
       "-2      2849\n",
       "-3       882\n",
       "-4        41\n",
       "Name: count, dtype: int64"
      ]
     },
     "execution_count": 13,
     "metadata": {},
     "output_type": "execute_result"
    }
   ],
   "source": [
    "data.rating_numerical.value_counts()"
   ]
  },
  {
   "cell_type": "code",
   "execution_count": 60,
   "metadata": {},
   "outputs": [
    {
     "name": "stdout",
     "output_type": "stream",
     "text": [
      "130414\n",
      "Rating Distribution\n"
     ]
    },
    {
     "data": {
      "text/plain": [
       "rating\n",
       "Mostly Positive            24501\n",
       "Overwhelmingly Positive     3829\n",
       "Positive                   36974\n",
       "Very Positive              65110\n",
       "Name: rating, dtype: int64"
      ]
     },
     "execution_count": 60,
     "metadata": {},
     "output_type": "execute_result"
    }
   ],
   "source": [
    "# positive edges: user with rating > 0, negative edges: user with rating < 0\n",
    "df = data[data['rating_numerical']> 0].loc[:150000]\n",
    "print(len(df))\n",
    "print(\"Rating Distribution\")\n",
    "df.groupby(['rating'])['rating'].count()"
   ]
  },
  {
   "cell_type": "code",
   "execution_count": 61,
   "metadata": {},
   "outputs": [
    {
     "name": "stdout",
     "output_type": "stream",
     "text": [
      "Train Size  :  104331\n",
      "Test Size :  26083\n"
     ]
    }
   ],
   "source": [
    "# Split data into training and testing sets with a test size of 20% and a fixed random state for reproducibility\n",
    "train, test = train_test_split(df.values, test_size=0.2, random_state = 16)\n",
    "train = pd.DataFrame(train, columns = df.columns)\n",
    "test = pd.DataFrame(test, columns = df.columns)\n",
    "print(\"Train Size  : \", len(train))\n",
    "print(\"Test Size : \", len (test))"
   ]
  },
  {
   "cell_type": "code",
   "execution_count": 62,
   "metadata": {},
   "outputs": [
    {
     "data": {
      "text/plain": [
       "Index(['Unnamed: 0.1', 'Unnamed: 0', 'recommendationid', 'author', 'review',\n",
       "       'timestamp_created', 'timestamp_updated', 'voted_up', 'votes_up',\n",
       "       'weighted_vote_score', 'app_id', 'title', 'date_release', 'rating',\n",
       "       'positive_ratio', 'user_reviews', 'price_final', 'price_original', 'os',\n",
       "       'time_between_comment_and_game', 'days_between_comment_and_game',\n",
       "       'rating_numerical', 'rating_simplified'],\n",
       "      dtype='object')"
      ]
     },
     "execution_count": 62,
     "metadata": {},
     "output_type": "execute_result"
    }
   ],
   "source": [
    "df.columns"
   ]
  },
  {
   "cell_type": "code",
   "execution_count": 63,
   "metadata": {},
   "outputs": [
    {
     "name": "stdout",
     "output_type": "stream",
     "text": [
      "80724 13803\n",
      "7937\n"
     ]
    }
   ],
   "source": [
    "# Use label encoding to transform user IDs and item IDs into integer indices for the training set\n",
    "le_user = pp.LabelEncoder()\n",
    "le_item = pp.LabelEncoder()\n",
    "train['user_id_idx'] = le_user.fit_transform(train['author'].values)\n",
    "train['item_id_idx'] = le_item.fit_transform(train['app_id'].values)\n",
    "train_user_ids = train['author'].unique()\n",
    "train_item_ids = train['app_id'].unique()\n",
    "\n",
    "print(len(train_user_ids), len(train_item_ids))\n",
    "\n",
    "# Ensure that the test set only contains users and items that also appear in the training set\n",
    "test = test[(test['author'].isin(train_user_ids)) & (test['app_id'].isin(train_item_ids))]\n",
    "print(len(test))"
   ]
  },
  {
   "cell_type": "code",
   "execution_count": 64,
   "metadata": {},
   "outputs": [
    {
     "name": "stdout",
     "output_type": "stream",
     "text": [
      "Number of Unique Users :  80724\n",
      "Number of unique Items :  13803\n"
     ]
    }
   ],
   "source": [
    "# Transform user IDs and item IDs in the test set using the label encoders fitted on the training set\n",
    "test['user_id_idx'] = le_user.transform(test['author'].values)\n",
    "test['item_id_idx'] = le_item.transform(test['app_id'].values)\n",
    "# Calculate the number of unique users and items in the training set\n",
    "n_users = train['user_id_idx'].nunique()\n",
    "n_items = train['item_id_idx'].nunique()\n",
    "print(\"Number of Unique Users : \", n_users)\n",
    "print(\"Number of unique Items : \", n_items)"
   ]
  },
  {
   "cell_type": "code",
   "execution_count": 65,
   "metadata": {},
   "outputs": [],
   "source": [
    "import csv\n",
    "mapping_user = dict(zip(le_user.classes_, range(len(le_user.classes_))))\n",
    "mapping_game = dict(zip(le_item.classes_, range(len(le_item.classes_))))\n",
    "with open('user_mapping.csv', 'w') as csv_file:  \n",
    "    writer = csv.writer(csv_file)\n",
    "    for key, value in mapping_user.items():\n",
    "       writer.writerow([key, value])\n",
    "\n",
    "with open('game_mapping.csv', 'w') as csv_file:  \n",
    "    writer = csv.writer(csv_file)\n",
    "    for key, value in mapping_game.items():\n",
    "       writer.writerow([key, value])\n",
    "\n",
    "# data fetched, encoded values"
   ]
  },
  {
   "cell_type": "code",
   "execution_count": 66,
   "metadata": {},
   "outputs": [],
   "source": [
    "# Set model hyperparameters: latent dimension and number of layers\n",
    "latent_dim = 64  # Dimensionality of the latent feature space\n",
    "n_layers = 3  # Number of layers in the neural network\n",
    "\n",
    "import torch\n",
    "\n",
    "# Define a function to convert a DOK matrix to a sparse tensor in PyTorch\n",
    "def convert_to_sparse_tensor(dok_mtrx):\n",
    "    dok_mtrx_coo = dok_mtrx.tocoo().astype(np.float32)  # Convert DOK matrix to COO format and ensure data type\n",
    "    values = dok_mtrx_coo.data  # Extract non-zero values\n",
    "    indices = np.vstack((dok_mtrx_coo.row, dok_mtrx_coo.col))\n",
    "\n",
    "    i = torch.LongTensor(indices)\n",
    "    v = torch.FloatTensor(values)\n",
    "    shape = dok_mtrx_coo.shape\n",
    "\n",
    "    dok_mtrx_sparse_tensor = torch.sparse.FloatTensor(i, v, torch.Size(shape))\n",
    "\n",
    "    return dok_mtrx_sparse_tensor"
   ]
  },
  {
   "cell_type": "code",
   "execution_count": 75,
   "metadata": {},
   "outputs": [],
   "source": [
    "# Function to compute evaluation metrics for a recommendation system model\n",
    "def get_metrics(user_Embed_wts, item_Embed_wts, n_users, n_items, train_data, test_data, K):\n",
    "\n",
    "    # Initialize user and item embeddings using pre-trained weights\n",
    "    user_Embedding = nn.Embedding(user_Embed_wts.size()[0], user_Embed_wts.size()[1], _weight = user_Embed_wts)\n",
    "    item_Embedding = nn.Embedding(item_Embed_wts.size()[0], item_Embed_wts.size()[1], _weight = item_Embed_wts)\n",
    "\n",
    "    # Get unique user IDs in the test set\n",
    "    test_user_ids = torch.LongTensor(test_data['user_id_idx'].unique())\n",
    "\n",
    "    # Compute relevance score matrix based on user and item embeddings\n",
    "    relevance_score = torch.matmul(user_Embed_wts, torch.transpose(item_Embed_wts,0, 1))\n",
    "\n",
    "    # Initialize a sparse matrix R with interactions from the training data\n",
    "    R = sp.dok_matrix((n_users, n_items), dtype = np.float32)\n",
    "    R[train_data['user_id_idx'], train_data['item_id_idx']] = 1.0\n",
    "\n",
    "    # Convert sparse matrix R to a sparse tensor\n",
    "    R_tensor = convert_to_sparse_tensor(R)\n",
    "    R_tensor_dense = R_tensor.to_dense()\n",
    "\n",
    "    # Set non-interacted items in the relevance score matrix to negative infinity\n",
    "    R_tensor_dense = R_tensor_dense*(-np.inf)\n",
    "    R_tensor_dense = torch.nan_to_num(R_tensor_dense, nan=0.0)\n",
    "\n",
    "    # Add the relevance score matrix and the non-interacted items matrix\n",
    "    relevance_score = relevance_score + R_tensor_dense\n",
    "\n",
    "    # Retrieve the top-K relevance scores and their corresponding indices\n",
    "    topk_relevance_score = torch.topk(relevance_score, K).values\n",
    "    topk_relevance_indices = torch.topk(relevance_score, K).indices\n",
    "\n",
    "    # Convert top-K relevance indices to a DataFrame\n",
    "    topk_relevance_indices_df = pd.DataFrame(topk_relevance_indices.numpy(),columns =['top_indx_'+str(x+1) for x in range(K)])\n",
    "    topk_relevance_indices_df['user_ID'] = topk_relevance_indices_df.index\n",
    "    topk_relevance_indices_df['top_rlvnt_itm'] = topk_relevance_indices_df[['top_indx_'+str(x+1) for x in range(K)]].values.tolist()\n",
    "    topk_relevance_indices_df = topk_relevance_indices_df[['user_ID','top_rlvnt_itm']]\n",
    "\n",
    "    # pickle.dump(relevance_score, open(f\"model_stats/relevance_score.pkl\", \"wb\"))\n",
    "    \n",
    "    # Group the test set by user ID and retrieve the list of interacted items\n",
    "    test_interacted_items = test_data.groupby('user_id_idx')['item_id_idx'].apply(list).reset_index()\n",
    "\n",
    "    # Merge the interacted items list with the top-K relevance indices DataFrame\n",
    "    metrics_df = pd.merge(test_interacted_items,topk_relevance_indices_df, how= 'left', left_on = 'user_id_idx',right_on = ['user_ID'])\n",
    "    metrics_df['intrsctn_itm'] = [list(set(a).intersection(b)) for a, b in zip(metrics_df.item_id_idx, metrics_df.top_rlvnt_itm)]\n",
    "\n",
    "    # Compute recall, precision, and hit list metrics\n",
    "    metrics_df['recall'] = metrics_df.apply(lambda x : len(x['intrsctn_itm'])/len(x['item_id_idx']), axis = 1)\n",
    "    metrics_df['precision'] = metrics_df.apply(lambda x : len(x['intrsctn_itm'])/K, axis = 1)\n",
    "\n",
    "    # Check if each recommended item is in the interacted item list\n",
    "    def get_hit_list(item_id_idx, top_rlvnt_itm):\n",
    "        return [1 if x in set(item_id_idx) else 0 for x in top_rlvnt_itm ]\n",
    "    metrics_df['hit_list'] = metrics_df.apply(lambda x : get_hit_list(x['item_id_idx'], x['top_rlvnt_itm']), axis = 1)\n",
    "\n",
    "    # Calculate the ideal DCG (IDCG) based on the number of interacted items and the hit list\n",
    "    def get_dcg_idcg(item_id_idx, hit_list):\n",
    "        idcg  = sum([1 / np.log1p(idx+1) for idx in range(min(len(item_id_idx),len(hit_list)))])\n",
    "        dcg =  sum([hit / np.log1p(idx+1) for idx, hit in enumerate(hit_list)])\n",
    "        return dcg/idcg\n",
    "    metrics_df['ndcg'] = metrics_df.apply(lambda x : get_dcg_idcg(x['item_id_idx'], x['hit_list']), axis = 1)\n",
    "\n",
    "    # Calculate the cumulative sum of hits in the hit list\n",
    "    def get_cumsum(hit_list):\n",
    "        return np.cumsum(hit_list)\n",
    "    metrics_df['hit_list_cumsum'] = metrics_df.apply(lambda x : get_cumsum(x['hit_list']), axis = 1)\n",
    "\n",
    "    # Calculate the mean average precision (MAP) for a user\n",
    "    def get_map(item_id_idx, hit_list, hit_list_cumsum):\n",
    "        return sum([hit_cumsum*hit/(idx+1) for idx, (hit, hit_cumsum) in enumerate(zip(hit_list, hit_list_cumsum))])/len(item_id_idx)\n",
    "    metrics_df['map'] = metrics_df.apply(lambda x : get_map(x['item_id_idx'], x['hit_list'], x['hit_list_cumsum']), axis = 1)\n",
    "\n",
    "    return metrics_df['recall'].mean(), metrics_df['precision'].mean(), metrics_df['ndcg'].mean(), metrics_df['map'].mean()"
   ]
  },
  {
   "cell_type": "code",
   "execution_count": 68,
   "metadata": {},
   "outputs": [],
   "source": [
    "class LightGCN(nn.Module):\n",
    "    def __init__(self, data, n_users, n_items, n_layers, latent_dim):\n",
    "        super(LightGCN, self).__init__()\n",
    "        self.data = data\n",
    "        self.n_users = n_users\n",
    "        self.n_items = n_items\n",
    "        self.n_layers = n_layers\n",
    "        self.latent_dim = latent_dim\n",
    "        self.init_embedding()\n",
    "        self.norm_adj_mat_sparse_tensor = self.get_A_tilda()\n",
    "\n",
    "    def init_embedding(self):\n",
    "        self.E0 = nn.Embedding(self.n_users + self.n_items, self.latent_dim)\n",
    "        nn.init.xavier_uniform_(self.E0.weight)\n",
    "        self.E0.weight = nn.Parameter(self.E0.weight)\n",
    "\n",
    "    def get_A_tilda(self):\n",
    "        R = sp.dok_matrix((self.n_users, self.n_items), dtype = np.float32)\n",
    "        R[self.data['user_id_idx'], self.data['item_id_idx']] = 1.0\n",
    "\n",
    "        # Create adjacency matrix for the user-item graph\n",
    "        adj_mat = sp.dok_matrix(\n",
    "                (self.n_users + self.n_items, self.n_users + self.n_items), dtype=np.float32\n",
    "            )\n",
    "        adj_mat = adj_mat.tolil()\n",
    "        R = R.tolil()\n",
    "\n",
    "        adj_mat[: n_users, n_users :] = R\n",
    "        adj_mat[n_users :, : n_users] = R.T\n",
    "        adj_mat = adj_mat.todok()\n",
    "\n",
    "        # Normalize the adjacency matrix\n",
    "        rowsum = np.array(adj_mat.sum(1))\n",
    "        d_inv = np.power(rowsum + 1e-9, -0.5).flatten()\n",
    "        d_inv[np.isinf(d_inv)] = 0.0\n",
    "        d_mat_inv = sp.diags(d_inv)\n",
    "        norm_adj_mat = d_mat_inv.dot(adj_mat)\n",
    "        norm_adj_mat = norm_adj_mat.dot(d_mat_inv)\n",
    "\n",
    "        # Convert the dok_matrix to sparse tensor.\n",
    "\n",
    "        norm_adj_mat_coo = norm_adj_mat.tocoo().astype(np.float32)\n",
    "        values = norm_adj_mat_coo.data\n",
    "        indices = np.vstack((norm_adj_mat_coo.row, norm_adj_mat_coo.col))\n",
    "\n",
    "        i = torch.LongTensor(indices)\n",
    "        v = torch.FloatTensor(values)\n",
    "        shape = norm_adj_mat_coo.shape\n",
    "\n",
    "        norm_adj_mat_sparse_tensor = torch.sparse.FloatTensor(i, v, torch.Size(shape))\n",
    "\n",
    "        return norm_adj_mat_sparse_tensor\n",
    "\n",
    "    # propagate user and item embeddings through the network for a specified number of layers\n",
    "    def propagate_through_layers(self):\n",
    "        all_layer_embedding = [self.E0.weight]\n",
    "        E_lyr = self.E0.weight\n",
    "\n",
    "        for layer in range(self.n_layers):\n",
    "            E_lyr = torch.sparse.mm(self.norm_adj_mat_sparse_tensor, E_lyr)\n",
    "            all_layer_embedding.append(E_lyr)\n",
    "\n",
    "        all_layer_embedding = torch.stack(all_layer_embedding)\n",
    "        mean_layer_embedding = torch.mean(all_layer_embedding, axis = 0)\n",
    "\n",
    "        final_user_Embed, final_item_Embed = torch.split(mean_layer_embedding, [n_users, n_items])\n",
    "        initial_user_Embed, initial_item_Embed = torch.split(self.E0.weight, [n_users, n_items])\n",
    "\n",
    "        return final_user_Embed, final_item_Embed, initial_user_Embed, initial_item_Embed\n",
    "\n",
    "    # define the forward pass of the model, compute the final embeddings for given users and items\n",
    "    def forward(self, users, pos_items, neg_items):\n",
    "        final_user_Embed, final_item_Embed, initial_user_Embed, initial_item_Embed = self.propagate_through_layers()\n",
    "\n",
    "        users_emb, pos_emb, neg_emb = final_user_Embed[users], final_item_Embed[pos_items], final_item_Embed[neg_items]\n",
    "        userEmb0,  posEmb0, negEmb0 = initial_user_Embed[users], initial_item_Embed[pos_items], initial_item_Embed[neg_items]\n",
    "\n",
    "        return users_emb, pos_emb, neg_emb, userEmb0,  posEmb0, negEmb0"
   ]
  },
  {
   "cell_type": "code",
   "execution_count": 69,
   "metadata": {},
   "outputs": [
    {
     "name": "stdout",
     "output_type": "stream",
     "text": [
      "Size of Learnable Embedding :  torch.Size([94527, 64])\n"
     ]
    }
   ],
   "source": [
    "lightGCN = LightGCN(train, n_users, n_items, n_layers, latent_dim)\n",
    "print(\"Size of Learnable Embedding : \", list(lightGCN.parameters())[0].size())"
   ]
  },
  {
   "cell_type": "code",
   "execution_count": 70,
   "metadata": {},
   "outputs": [],
   "source": [
    "def bpr_loss(users, users_emb, pos_emb, neg_emb, userEmb0,  posEmb0, negEmb0):\n",
    "    # Compute regularization loss\n",
    "    reg_loss = (1/2)*(userEmb0.norm().pow(2) +\n",
    "                    posEmb0.norm().pow(2)  +\n",
    "                    negEmb0.norm().pow(2))/float(len(users))\n",
    "\n",
    "    # Compute scores for positive and negative items\n",
    "    pos_scores = torch.mul(users_emb, pos_emb)\n",
    "    pos_scores = torch.sum(pos_scores, dim=1)\n",
    "    neg_scores = torch.mul(users_emb, neg_emb)\n",
    "    neg_scores = torch.sum(neg_scores, dim=1)\n",
    "\n",
    "    # Compute BPR loss using softplus function\n",
    "    loss = torch.mean(torch.nn.functional.softplus(neg_scores - pos_scores))\n",
    "    return loss, reg_loss"
   ]
  },
  {
   "cell_type": "code",
   "execution_count": 71,
   "metadata": {},
   "outputs": [],
   "source": [
    "def data_loader(data, batch_size, n_usr, n_itm):\n",
    "    # Group interactions by user ID and sample negative items\n",
    "    interected_items_df = data.groupby('user_id_idx')['item_id_idx'].apply(list).reset_index()\n",
    "\n",
    "    def sample_neg(x):\n",
    "        while True:\n",
    "            neg_id = random.randint(0, n_itm - 1)\n",
    "            if neg_id not in x:\n",
    "                return neg_id\n",
    "\n",
    "    indices = [x for x in range(n_usr)]\n",
    "\n",
    "    # Randomly select users for batch training\n",
    "    if n_usr < batch_size:\n",
    "        users = [random.choice(indices) for _ in range(batch_size)]\n",
    "    else:\n",
    "        users = random.sample(indices, batch_size)\n",
    "\n",
    "    users.sort()\n",
    "\n",
    "    users_df = pd.DataFrame(users,columns = ['users'])\n",
    "\n",
    "    interected_items_df = pd.merge(interected_items_df, users_df, how = 'right', left_on = 'user_id_idx', right_on = 'users')\n",
    "\n",
    "    # Select positive and negative items for each user\n",
    "    pos_items = interected_items_df['item_id_idx'].apply(lambda x : random.choice(x)).values\n",
    "    neg_items = interected_items_df['item_id_idx'].apply(lambda x: sample_neg(x)).values\n",
    "\n",
    "    return list(users), list(pos_items), list(neg_items)"
   ]
  },
  {
   "cell_type": "code",
   "execution_count": 72,
   "metadata": {},
   "outputs": [],
   "source": [
    "optimizer = torch.optim.Adam(lightGCN.parameters(), lr = 0.01)\n",
    "EPOCHS = 50\n",
    "BATCH_SIZE = 256\n",
    "DECAY = 0.001\n",
    "K = 15"
   ]
  },
  {
   "cell_type": "code",
   "execution_count": 73,
   "metadata": {},
   "outputs": [],
   "source": [
    "import os\n",
    "from os.path import isfile, join"
   ]
  },
  {
   "cell_type": "code",
   "execution_count": 1,
   "metadata": {},
   "outputs": [],
   "source": [
    "loss_list_epoch = []\n",
    "MF_loss_list_epoch = []\n",
    "reg_loss_list_epoch = []\n",
    "\n",
    "recall_list = []\n",
    "precision_list = []\n",
    "ndcg_list = []\n",
    "map_list = []\n",
    "\n",
    "train_time_list = []\n",
    "eval_time_list = []\n",
    "\n",
    "\n",
    "for epoch in tqdm(range(EPOCHS)):\n",
    "    # Calculate the number of batches per epoch\n",
    "    n_batch = int(len(train)/BATCH_SIZE)\n",
    "\n",
    "    # Initialization\n",
    "    final_loss_list = []\n",
    "    MF_loss_list = []\n",
    "    reg_loss_list = []\n",
    "    best_ndcg = -1\n",
    "    train_start_time = time.time()\n",
    "\n",
    "    # Set the model in training mode\n",
    "    lightGCN.train()\n",
    "\n",
    "    # Iterate over each batch in the training dataset\n",
    "    for batch_idx in range(n_batch):\n",
    "        # Reset gradients\n",
    "        optimizer.zero_grad()\n",
    "        # Load data for the current batch\n",
    "        users, pos_items, neg_items = data_loader(train, BATCH_SIZE, n_users, n_items)\n",
    "        # Perform forward pass through the model\n",
    "        users_emb, pos_emb, neg_emb, userEmb0,  posEmb0, negEmb0 = lightGCN.forward(users, pos_items, neg_items)\n",
    "        # Compute BPR loss and regularization loss\n",
    "        mf_loss, reg_loss = bpr_loss(users, users_emb, pos_emb, neg_emb, userEmb0,  posEmb0, negEmb0)\n",
    "        reg_loss = DECAY * reg_loss  # Apply weight decay\n",
    "        # Combine losses to get the final loss\n",
    "        final_loss = mf_loss + reg_loss\n",
    "        # Perform backward pass and update model parameters\n",
    "        final_loss.backward()\n",
    "        optimizer.step()\n",
    "        # Record losses for monitoring\n",
    "        final_loss_list.append(final_loss.item())\n",
    "        MF_loss_list.append(mf_loss.item())\n",
    "        reg_loss_list.append(reg_loss.item())\n",
    "\n",
    "\n",
    "    train_end_time = time.time()\n",
    "    train_time = train_end_time - train_start_time\n",
    "\n",
    "    # model evaluation\n",
    "    lightGCN.eval()\n",
    "    with torch.no_grad():\n",
    "        final_user_Embed, final_item_Embed, initial_user_Embed,initial_item_Embed = lightGCN.propagate_through_layers()\n",
    "        test_topK_recall,  test_topK_precision, test_topK_ndcg, test_topK_map  = get_metrics(final_user_Embed, final_item_Embed, n_users, n_items, train, test, K)\n",
    "\n",
    "\n",
    "    eval_time = time.time() - train_end_time\n",
    "\n",
    "    # calculate and append the mean values of various loss and evaluation metrics for each epoch to their respective lists.\n",
    "    loss_list_epoch.append(round(np.mean(final_loss_list),4))\n",
    "    MF_loss_list_epoch.append(round(np.mean(MF_loss_list),4))\n",
    "    reg_loss_list_epoch.append(round(np.mean(reg_loss_list),4))\n",
    "\n",
    "    recall_list.append(round(test_topK_recall,4))\n",
    "    precision_list.append(round(test_topK_precision,4))\n",
    "    ndcg_list.append(round(test_topK_ndcg,4))\n",
    "    map_list.append(round(test_topK_map,4))\n",
    "\n",
    "    train_time_list.append(train_time)\n",
    "    eval_time_list.append(eval_time)\n",
    "\n",
    "    # if epoch % 10 == 0:\n",
    "\n",
    "    #   # save embeddings for future visualization\n",
    "    #   path = os.path.join(\"model_embeddings\", lightGCN.name)\n",
    "    #   if not os.path.exists(path):\n",
    "    #     os.makedirs(path)\n",
    "    #   torch.save(lightGCN.embedding.weight, os.path.join(\"model_embeddings\",  f\"lightGCN_{epoch}.pt\"))\n",
    "\n",
    "stats = {\n",
    "      'train': {\n",
    "        'loss': [],\n",
    "        'roc' : []\n",
    "      },\n",
    "      'val': {\n",
    "        'loss': [],\n",
    "        'recall': [],\n",
    "        'ndcg': [],\n",
    "        'precision': [],\n",
    "        'map': [],\n",
    "        'roc' : []\n",
    "      }\n",
    "\n",
    "  }\n",
    "\n",
    "\n"
   ]
  },
  {
   "cell_type": "code",
   "execution_count": 77,
   "metadata": {},
   "outputs": [],
   "source": [
    "pickle.dump(stats, open(\"lightGCN__model_stats.pkl\", \"wb\"))"
   ]
  },
  {
   "cell_type": "code",
   "execution_count": 82,
   "metadata": {},
   "outputs": [],
   "source": [
    "final_user_Embed, final_item_Embed, initial_user_Embed,initial_item_Embed = lightGCN.propagate_through_layers()"
   ]
  },
  {
   "cell_type": "code",
   "execution_count": 89,
   "metadata": {},
   "outputs": [],
   "source": [
    "# Initialize user and item embeddings using pre-trained weights\n",
    "user_Embedding = nn.Embedding(final_user_Embed.size()[0], final_user_Embed.size()[1], _weight = final_user_Embed)\n",
    "item_Embedding = nn.Embedding(final_item_Embed.size()[0], final_item_Embed.size()[1], _weight = final_item_Embed)\n",
    "\n",
    "    # Compute relevance score matrix based on user and item embeddings\n",
    "relevance_score = torch.matmul(final_user_Embed, torch.transpose(final_item_Embed,0, 1))\n",
    "\n",
    "    # Initialize a sparse matrix R with interactions from the training data\n",
    "R = sp.dok_matrix((n_users, n_items), dtype = np.float32)\n",
    "R[train['user_id_idx'], train['item_id_idx']] = 1.0\n",
    "\n",
    "    # Convert sparse matrix R to a sparse tensor\n",
    "R_tensor = convert_to_sparse_tensor(R)\n",
    "R_tensor_dense = R_tensor.to_dense()\n",
    "\n",
    "    # Set non-interacted items in the relevance score matrix to negative infinity\n",
    "R_tensor_dense = R_tensor_dense*(-np.inf)\n",
    "R_tensor_dense = torch.nan_to_num(R_tensor_dense, nan=0.0)\n",
    "\n",
    "    # Add the relevance score matrix and the non-interacted items matrix\n",
    "relevance_score = relevance_score + R_tensor_dense\n",
    "#relevance_score: shape 80724 (users) * 13803 (games)\n"
   ]
  },
  {
   "cell_type": "code",
   "execution_count": 95,
   "metadata": {},
   "outputs": [],
   "source": [
    "pickle.dump(relevance_score, open(\"LightGCN_result.pkl\", \"wb\"))\n",
    "pickle.dump(final_user_Embed, open(\"LightGCN_user_embedding.pkl\", \"wb\"))\n",
    "pickle.dump(final_user_Embed, open(\"LightGCN_item_embedding.pkl\", \"wb\"))"
   ]
  },
  {
   "cell_type": "code",
   "execution_count": 78,
   "metadata": {},
   "outputs": [
    {
     "data": {
      "text/plain": [
       "<matplotlib.legend.Legend at 0x1823bc220>"
      ]
     },
     "execution_count": 78,
     "metadata": {},
     "output_type": "execute_result"
    },
    {
     "data": {
      "image/png": "[encoded data removed]",
      "text/plain": [
       "<Figure size 640x480 with 1 Axes>"
      ]
     },
     "metadata": {},
     "output_type": "display_data"
    }
   ],
   "source": [
    "epoch_list = [(i+1) for i in range(EPOCHS)]\n",
    "plt.plot(epoch_list, recall_list, label='Recall')\n",
    "plt.plot(epoch_list, precision_list, label='Precision')\n",
    "plt.plot(epoch_list, ndcg_list, label='NDCG')\n",
    "plt.plot(epoch_list, map_list, label='MAP')\n",
    "plt.xlabel('Epoch')\n",
    "plt.ylabel('Metrics')\n",
    "plt.legend()"
   ]
  },
  {
   "cell_type": "code",
   "execution_count": 79,
   "metadata": {},
   "outputs": [
    {
     "data": {
      "text/plain": [
       "<matplotlib.legend.Legend at 0x178097340>"
      ]
     },
     "execution_count": 79,
     "metadata": {},
     "output_type": "execute_result"
    },
    {
     "data": {
      "image/png": "[encoded data removed]",
      "text/plain": [
       "<Figure size 640x480 with 1 Axes>"
      ]
     },
     "metadata": {},
     "output_type": "display_data"
    }
   ],
   "source": [
    "plt.plot(epoch_list, loss_list_epoch, label='Total Training Loss')\n",
    "plt.plot(epoch_list, MF_loss_list_epoch, label='MF Training Loss')\n",
    "plt.plot(epoch_list, reg_loss_list_epoch, label='Reg Training Loss')\n",
    "\n",
    "plt.xlabel('Epoch')\n",
    "plt.ylabel('Loss')\n",
    "plt.legend()"
   ]
  },
  {
   "cell_type": "code",
   "execution_count": 80,
   "metadata": {},
   "outputs": [
    {
     "name": "stdout",
     "output_type": "stream",
     "text": [
      "Last Epoch's Test Data Recall ->  0.211\n",
      "Last Epoch's Test Data Precision ->  0.0206\n",
      "Last Epoch's Test Data NDCG ->  0.1328\n",
      "Last Epoch's Test Data MAP ->  0.1014\n",
      "Last Epoch's Train Data Loss ->  0.0086\n"
     ]
    }
   ],
   "source": [
    "print(\"Last Epoch's Test Data Recall -> \", recall_list[-1])\n",
    "print(\"Last Epoch's Test Data Precision -> \", precision_list[-1])\n",
    "print(\"Last Epoch's Test Data NDCG -> \", ndcg_list[-1])\n",
    "print(\"Last Epoch's Test Data MAP -> \", map_list[-1])\n",
    "\n",
    "print(\"Last Epoch's Train Data Loss -> \", loss_list_epoch[-1])"
   ]
  },
  {
   "cell_type": "markdown",
   "metadata": {},
   "source": [
    "what do to with the result: with the LightGCN_result.pkl file, we are able to retrieve the relevance score of users with games: for each user in the streaming data, we will be looking up the relevance score and output the games that have the highest K (e.g. 10) scores. To retrieve the names of the games, we need to use the game_mapping.csv, where the index of game in the scoring matrix corresponds to the app id. "
   ]
  },
  {
   "cell_type": "code",
   "execution_count": null,
   "metadata": {},
   "outputs": [],
   "source": []
  }
 ],
 "metadata": {
  "kernelspec": {
   "display_name": "Python 3",
   "language": "python",
   "name": "python3"
  },
  "language_info": {
   "codemirror_mode": {
    "name": "ipython",
    "version": 3
   },
   "file_extension": ".py",
   "mimetype": "text/x-python",
   "name": "python",
   "nbconvert_exporter": "python",
   "pygments_lexer": "ipython3",
   "version": "3.9.18"
  }
 },
 "nbformat": 4,
 "nbformat_minor": 2
}
